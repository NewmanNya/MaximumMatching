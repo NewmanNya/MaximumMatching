{
 "cells": [
  {
   "cell_type": "markdown",
   "metadata": {},
   "source": [
    "# The MaxMatcher - A web application built using Gradio"
   ]
  },
  {
   "cell_type": "markdown",
   "metadata": {},
   "source": [
    "We give the code to build a web-app built using Gradio which outputs a maximum matching given an adjacency matrix of an undirected graph"
   ]
  },
  {
   "cell_type": "code",
   "execution_count": 1,
   "metadata": {},
   "outputs": [],
   "source": [
    "import pprint \n",
    "\n",
    "\n",
    "#Gradio\n",
    "import gradio as gr\n",
    "from io import BytesIO\n",
    "import base64\n",
    "\n",
    "\n",
    "from maximum_matching import *\n"
   ]
  },
  {
   "cell_type": "markdown",
   "metadata": {},
   "source": [
    "# Input out helper functions"
   ]
  },
  {
   "cell_type": "code",
   "execution_count": 2,
   "metadata": {},
   "outputs": [],
   "source": [
    "def run_blossoms_algorithm_gradio(adjacency_matrix, list_of_vertices=None):\n",
    "     \n",
    "     no_of_vertices = len(adjacency_matrix)\n",
    "     if list_of_vertices is None:\n",
    "          list_of_vertices = list(range(no_of_vertices))\n",
    "     \n",
    "     #Create graph_adjacency_dict\n",
    "     graph_adjacency_dict =  create_graph_adjacency_dict(adjacency_matrix, list_of_vertices)\n",
    "     vertices = set(list_of_vertices)\n",
    "\n",
    "     #Find a maximal matching\n",
    "     current_matching = find_a_maximal_matching(graph_adjacency_dict,vertices)\n",
    "\n",
    "     #Find maximum matching\n",
    "     final_match_dict, no_of_matched_edges = find_max_matching(graph_adjacency_dict, current_matching, vertices)\n",
    "\n",
    "\n",
    "     return no_of_matched_edges, final_match_dict\n",
    "    "
   ]
  },
  {
   "cell_type": "code",
   "execution_count": 3,
   "metadata": {},
   "outputs": [],
   "source": [
    "def get_adjacency_matrix(matrix):\n",
    "    print(matrix)\n",
    "    matrix_row_strings = matrix.split('\\n')\n",
    "    adj_matrix = []\n",
    "    for row_string in matrix_row_strings:\n",
    "        row_string = row_string.replace(\" \",\"\")           \n",
    "        row_string = row_string.split(',')\n",
    "        row = []\n",
    "        for element in row_string:\n",
    "            if element:\n",
    "                row.append(int(element))\n",
    "        if row:\n",
    "            adj_matrix.append(row)\n",
    "    return adj_matrix\n"
   ]
  },
  {
   "cell_type": "code",
   "execution_count": 4,
   "metadata": {},
   "outputs": [],
   "source": [
    "def check_validity(adjacency_matrix):\n",
    "    is_valid = True\n",
    "    my_msg = ''\n",
    "    try:\n",
    "        assert(adjacency_matrix)\n",
    "        row_lengths = list(map(len, adjacency_matrix))\n",
    "        row_0_length = len(adjacency_matrix[0])\n",
    "        assert(row_0_length == len(adjacency_matrix)), \"Invalid adjacency matrix : it should be a square matrix\"\n",
    "        assert(all([row_0_length == row_length for row_length in row_lengths])), \"Invalid adjacency matrix : it should be a square matrix\"\n",
    "        for i in range(row_0_length):\n",
    "            assert(adjacency_matrix[i][i] == 0), \"Invalid adjacency matrix : no self loops allowed\"\n",
    "            for j in range(i+1,row_0_length):\n",
    "                assert(adjacency_matrix[i][j]==0 or adjacency_matrix[i][j]==1), \"Invalid adjacency matrix : all entries must be 0 or 1\"\n",
    "                assert(adjacency_matrix[i][j] == adjacency_matrix[j][i]), \"Invalid adjacency matrix : it should be a symmetric matrix\"\n",
    "                \n",
    "        \n",
    "    except AssertionError as msg:\n",
    "        is_valid = False\n",
    "        my_msg = str(msg)\n",
    "        \n",
    "    \n",
    "    return is_valid, my_msg\n",
    "        \n",
    "        \n",
    "\n",
    "\n",
    "        "
   ]
  },
  {
   "cell_type": "code",
   "execution_count": 5,
   "metadata": {},
   "outputs": [],
   "source": [
    "def convert_dict_to_string(my_dict):\n",
    "    my_str_list = []\n",
    "    for key in my_dict:\n",
    "        my_str_list.append(f\"{key}: {my_dict[key]} \\n\")\n",
    "    return ''.join(my_str_list)\n",
    "    "
   ]
  },
  {
   "cell_type": "code",
   "execution_count": 6,
   "metadata": {},
   "outputs": [],
   "source": [
    "def run_max_matcher(matrix):\n",
    "    adjacency_matrix = get_adjacency_matrix(matrix)\n",
    "    print(adjacency_matrix)\n",
    "    is_valid, my_msg = check_validity(adjacency_matrix)\n",
    "    if is_valid:\n",
    "        no_of_matched_edges, final_match_dict = run_blossoms_algorithm_gradio(adjacency_matrix)\n",
    "        return no_of_matched_edges, convert_dict_to_string(final_match_dict)\n",
    "    else:\n",
    "        return my_msg, my_msg\n",
    "        \n",
    "    "
   ]
  },
  {
   "cell_type": "markdown",
   "metadata": {},
   "source": [
    "# Gradio interface"
   ]
  },
  {
   "cell_type": "code",
   "execution_count": null,
   "metadata": {},
   "outputs": [],
   "source": [
    "gr.Interface(run_max_matcher,\n",
    "             gr.inputs.Textbox(lines=5, placeholder=\"Enter the adjacency matrix in the format: Each row in a new line, each matrix entry in the rows separated by commas. Vertices are implicitly assumed to be labelled 0,1,....\", \n",
    "                               default=None, numeric=False, label= \"Adjacency matrix\"),\n",
    "             [gr.outputs.Textbox(label=\"Number of edges in maximum matching\"),\n",
    "              gr.outputs.Textbox(label=\"A maximum matching\")], \n",
    "             title=\"MaxMatcher\", \n",
    "             description=\"Enter the adjacency matrix of any undirected graph. The MaxMatcher will output a maximum matching for it.\").launch()  \n"
   ]
  },
  {
   "cell_type": "markdown",
   "metadata": {},
   "source": [
    "# A screenshot from the web-app"
   ]
  },
  {
   "cell_type": "markdown",
   "metadata": {},
   "source": [
    "![screenshot](screenshot_from_maxmatcher_webapp.png)"
   ]
  },
  {
   "cell_type": "code",
   "execution_count": null,
   "metadata": {},
   "outputs": [],
   "source": []
  }
 ],
 "metadata": {
  "kernelspec": {
   "display_name": "Python 3",
   "language": "python",
   "name": "python3"
  },
  "language_info": {
   "codemirror_mode": {
    "name": "ipython",
    "version": 3
   },
   "file_extension": ".py",
   "mimetype": "text/x-python",
   "name": "python",
   "nbconvert_exporter": "python",
   "pygments_lexer": "ipython3",
   "version": "3.7.6"
  },
  "toc": {
   "base_numbering": 1,
   "nav_menu": {},
   "number_sections": true,
   "sideBar": true,
   "skip_h1_title": false,
   "title_cell": "Table of Contents",
   "title_sidebar": "Contents",
   "toc_cell": false,
   "toc_position": {},
   "toc_section_display": true,
   "toc_window_display": true
  }
 },
 "nbformat": 4,
 "nbformat_minor": 4
}
