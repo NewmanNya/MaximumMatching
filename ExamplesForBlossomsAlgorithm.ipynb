{
 "cells": [
  {
   "cell_type": "code",
   "execution_count": 1,
   "metadata": {},
   "outputs": [],
   "source": [
    "import maximum_matching as mm"
   ]
  },
  {
   "cell_type": "markdown",
   "metadata": {},
   "source": [
    "## Example 1"
   ]
  },
  {
   "cell_type": "code",
   "execution_count": 2,
   "metadata": {},
   "outputs": [],
   "source": [
    "adjacency_matrix_1 = [[0,1,1,1,1],\n",
    "                      [1,0,0,0,1],\n",
    "                      [1,0,0,0,0],\n",
    "                      [1,0,0,0,0],\n",
    "                      [1,1,0,0,0]]"
   ]
  },
  {
   "cell_type": "markdown",
   "metadata": {},
   "source": [
    "![Graph_1](graph_1.png)"
   ]
  },
  {
   "cell_type": "code",
   "execution_count": 3,
   "metadata": {},
   "outputs": [
    {
     "name": "stdout",
     "output_type": "stream",
     "text": [
      "Maximum Matching : {0: 2, 1: 4, 2: 0, 3: None, 4: 1}\n",
      "Number of matched edges : 2\n",
      "Time taken : 0.0007519721984863281\n"
     ]
    }
   ],
   "source": [
    "mm.run_blossoms_algorithm(adjacency_matrix_1)"
   ]
  },
  {
   "cell_type": "markdown",
   "metadata": {},
   "source": [
    "![Graph 1 matched](graph_1_matched.png)"
   ]
  },
  {
   "cell_type": "markdown",
   "metadata": {},
   "source": [
    "## Example 2"
   ]
  },
  {
   "cell_type": "code",
   "execution_count": 4,
   "metadata": {},
   "outputs": [],
   "source": [
    "adjacency_matrix_2 = [[0, 1, 0, 0, 1, 0, 0, 1, 1, 0, 0, 0],\n",
    "                     [1, 0, 1, 0, 0, 0, 0, 1, 0, 0, 1, 0],\n",
    "                     [0, 1, 0, 1, 0, 0, 1, 0, 0, 0, 0, 1],\n",
    "                     [0, 0, 1, 0, 1, 1, 1, 0, 0, 0, 0, 0],\n",
    "                     [1, 0, 0, 1, 0, 1, 0, 0, 0, 1, 0, 0],\n",
    "                     [0, 0, 0, 1, 1, 0, 0, 0, 0, 0, 0, 0],\n",
    "                     [0, 0, 1, 1, 0, 0, 0, 0, 0, 0, 0, 0],\n",
    "                     [1, 1, 0, 0, 0, 0, 0, 0, 0, 0, 0, 0],\n",
    "                     [1, 0, 0, 0, 0, 0, 0, 0, 0, 1, 0, 0],\n",
    "                     [0, 0, 0, 0, 1, 0, 0, 0, 1, 0, 0, 0],\n",
    "                     [0, 1, 0, 0, 0, 0, 0, 0, 0, 0, 0, 1],\n",
    "                     [0, 0, 1, 0, 0, 0, 0, 0, 0, 0, 1, 0]]"
   ]
  },
  {
   "cell_type": "markdown",
   "metadata": {},
   "source": [
    "![Graph_2](graph_2.png)"
   ]
  },
  {
   "cell_type": "code",
   "execution_count": 5,
   "metadata": {},
   "outputs": [
    {
     "name": "stdout",
     "output_type": "stream",
     "text": [
      "Maximum Matching : {0: 4, 1: 7, 2: 6, 3: 5, 4: 0, 5: 3, 6: 2, 7: 1, 8: 9, 9: 8, 10: 11, 11: 10}\n",
      "Number of matched edges : 6\n",
      "Time taken : 0.001463174819946289\n"
     ]
    }
   ],
   "source": [
    "mm.run_blossoms_algorithm(adjacency_matrix_2)"
   ]
  },
  {
   "cell_type": "markdown",
   "metadata": {},
   "source": [
    "![Graph_2 matched](graph_2_matched.png)"
   ]
  },
  {
   "cell_type": "code",
   "execution_count": null,
   "metadata": {},
   "outputs": [],
   "source": []
  }
 ],
 "metadata": {
  "kernelspec": {
   "display_name": "Python 3",
   "language": "python",
   "name": "python3"
  },
  "language_info": {
   "codemirror_mode": {
    "name": "ipython",
    "version": 3
   },
   "file_extension": ".py",
   "mimetype": "text/x-python",
   "name": "python",
   "nbconvert_exporter": "python",
   "pygments_lexer": "ipython3",
   "version": "3.7.6"
  }
 },
 "nbformat": 4,
 "nbformat_minor": 4
}
